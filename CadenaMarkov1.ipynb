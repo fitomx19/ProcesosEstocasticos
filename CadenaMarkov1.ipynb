{
 "cells": [
  {
   "cell_type": "markdown",
   "metadata": {},
   "source": [
    "## Calculadora de Cadenas de Markov"
   ]
  },
  {
   "cell_type": "code",
   "execution_count": 3,
   "metadata": {},
   "outputs": [],
   "source": [
    "import numpy as np \n",
    "import pandas as pd"
   ]
  },
  {
   "cell_type": "markdown",
   "metadata": {},
   "source": [
    "### Utilizaremos el siguiente ejemplo para poder probar el software\n",
    "\n",
    "<center><img src=\"IMAGENRESULTANTE.jpg\" alt=\"No hay imagen\" /></center>\n",
    "\n"
   ]
  },
  {
   "cell_type": "markdown",
   "metadata": {},
   "source": [
    "Paso 1.- Definimos el arreglo inicial y le damos forma.\n",
    "En este caso es de $5x5$ entonces lo dejaremos de esta siguiente manera ->"
   ]
  },
  {
   "cell_type": "code",
   "execution_count": 17,
   "metadata": {},
   "outputs": [],
   "source": [
    "a = np.array([0,0.5,0,0,0.5,0.5,0,0.5,0,0,0,0.5,0,0.5,0,0,0,0.5,0,0.5,0.5,0,0,0.5,0])\n",
    "newarr = a.reshape(5, 5)"
   ]
  },
  {
   "cell_type": "markdown",
   "metadata": {},
   "source": [
    "Paso 2.- Visualizamos que nos salio correctamente --->"
   ]
  },
  {
   "cell_type": "code",
   "execution_count": 3,
   "metadata": {},
   "outputs": [
    {
     "name": "stdout",
     "output_type": "stream",
     "text": [
      "[[0.  0.5 0.  0.  0.5]\n",
      " [0.5 0.  0.5 0.  0. ]\n",
      " [0.  0.5 0.  0.5 0. ]\n",
      " [0.  0.  0.5 0.  0.5]\n",
      " [0.5 0.  0.  0.5 0. ]]\n"
     ]
    }
   ],
   "source": [
    "print(newarr)"
   ]
  },
  {
   "cell_type": "markdown",
   "metadata": {},
   "source": [
    "Paso 3.- Se van a definir las condiciones iniciales en 1 , para cada uno de los eventos, por eso lo vemos como valores de pivoteo en zero,one,two.\n",
    "y para reforzar los cambiamos a la forma 5,1 para que nos queden de manera vertical"
   ]
  },
  {
   "cell_type": "code",
   "execution_count": 64,
   "metadata": {},
   "outputs": [],
   "source": [
    "def iteraciones(numero):\n",
    "\n",
    "    #validamos que sea un numero mayor a uno, recuerden que solo acepta enteros dado que se ocupara la variable\n",
    "    #numero pare realizar iteraciones ---->\n",
    "\n",
    "    #creamos los valores iniciales\n",
    "    if(numero>=1):\n",
    "        zero = np.array([1,0,0,0,0]).reshape(5, 1)\n",
    "        one = np.array([0,1,0,0,0]).reshape(5, 1)\n",
    "        two = np.array([0,0,1,0,0]).reshape(5, 1)\n",
    "        three = np.array([0,0,0,1,0]).reshape(5, 1)\n",
    "        four = np.array([0,0,0,0,1]).reshape(5, 1)\n",
    "    #sugerencia: pueden mejorar este codigo añadiendo listas para crear las variables iniciales de forma dinamica\n",
    "\n",
    "\n",
    "    #iteramos el numero de veces que se quiera realizar iteraciones\n",
    "    for x in range(numero):\n",
    "\n",
    "        #realizamos producto punto de cada uno de los estados iniciales por la matriz de transciocion\n",
    "        zeroo = np.dot(newarr, zero).reshape(1,5) \n",
    "        onee = np.dot(newarr,one).reshape(1,5)\n",
    "        twoo = np.dot(newarr,two).reshape(1,5)\n",
    "        threee = np.dot(newarr,three).reshape(1,5)\n",
    "        fourr = np.dot(newarr,four).reshape(1,5)\n",
    "\n",
    "        #crearemos la nueva matriz de transicion , apilando cada uno de los arreglos anteriores\n",
    "        nuevoarreglo = np.append(zeroo,onee)\n",
    "        nuevoarreglo = np.append(nuevoarreglo,twoo)\n",
    "        nuevoarreglo = np.append(nuevoarreglo,threee)\n",
    "        nuevoarreglo = np.append(nuevoarreglo,fourr)\n",
    "\n",
    "        #seleccionamos nuevamente los valores para que continuen las iteraciones\n",
    "        zero = (nuevoarreglo[:5])  \n",
    "        one = (nuevoarreglo[5:10])  \n",
    "        two = (nuevoarreglo[10:15])  \n",
    "        three = (nuevoarreglo[15:20]) \n",
    "        four = (nuevoarreglo[20:25]) \n",
    "\n",
    "    #para terminar construimos nuevamente la matriz final\n",
    "    arreglo = np.append(zero,one)\n",
    "    arreglo = np.append(arreglo,two)\n",
    "    arreglo = np.append(arreglo,three)\n",
    "    arreglo = np.append(arreglo,four)\n",
    "\n",
    "    #la mostramos en pantalla con su respectiva forma 5x5\n",
    "    print(arreglo.reshape(5,5))\n"
   ]
  },
  {
   "cell_type": "code",
   "execution_count": 65,
   "metadata": {},
   "outputs": [
    {
     "name": "stdout",
     "output_type": "stream",
     "text": [
      "[[0.0625  0.3125  0.15625 0.15625 0.3125 ]\n",
      " [0.3125  0.0625  0.3125  0.15625 0.15625]\n",
      " [0.15625 0.3125  0.0625  0.3125  0.15625]\n",
      " [0.15625 0.15625 0.3125  0.0625  0.3125 ]\n",
      " [0.3125  0.15625 0.15625 0.3125  0.0625 ]]\n"
     ]
    }
   ],
   "source": [
    "#Basta con escribir el nombre de la funcion para mandarla a llamar\n",
    "iteraciones(5)"
   ]
  },
  {
   "cell_type": "code",
   "execution_count": null,
   "metadata": {},
   "outputs": [],
   "source": []
  },
  {
   "cell_type": "markdown",
   "metadata": {},
   "source": [
    "- Example 2.19\n",
    "\n",
    "<p>University administrators have developed a Markov model to simu- late graduation rates at their school. Students might drop out, repeat a year, or move on to the next year. Students have a 3% chance of repeating the year. First-years and sophomores have a 6% chance of dropping out. For juniors and seniors, the drop-out rate is 4%. The transition matrix for the model is</p>\n",
    "\n"
   ]
  },
  {
   "cell_type": "code",
   "execution_count": 66,
   "metadata": {},
   "outputs": [
    {
     "data": {
      "text/plain": [
       "array([[1.  , 0.  , 0.  , 0.  , 0.  , 0.  ],\n",
       "       [0.06, 0.03, 0.91, 0.  , 0.  , 0.  ],\n",
       "       [0.06, 0.  , 0.03, 0.91, 0.  , 0.  ],\n",
       "       [0.04, 0.  , 0.  , 0.03, 0.93, 0.  ],\n",
       "       [0.04, 0.  , 0.  , 0.  , 0.03, 0.93],\n",
       "       [0.  , 0.  , 0.  , 0.  , 0.  , 1.  ]])"
      ]
     },
     "execution_count": 66,
     "metadata": {},
     "output_type": "execute_result"
    }
   ],
   "source": [
    "university = np.array([1,0,0,0,0,0,0.06,0.03,0.91,0,0,0,0.06,0,0.03,0.91,0,0,0.04,0,0,0.03,0.93,0,0.04,0,0,0,0.03,0.93,0,0,0,0,0,1])\n",
    "newUniversity = university.reshape(6, 6)\n",
    "newUniversity"
   ]
  },
  {
   "cell_type": "code",
   "execution_count": 67,
   "metadata": {},
   "outputs": [
    {
     "name": "stdout",
     "output_type": "stream",
     "text": [
      "      Drop    Fr    So    Jr    Sr  Grad\n",
      "Drop  1.00  0.00  0.00  0.00  0.00  0.00\n",
      "Fr    0.06  0.03  0.91  0.00  0.00  0.00\n",
      "So    0.06  0.00  0.03  0.91  0.00  0.00\n",
      "Jr    0.04  0.00  0.00  0.03  0.93  0.00\n",
      "Sr    0.04  0.00  0.00  0.00  0.03  0.93\n",
      "Grad  0.00  0.00  0.00  0.00  0.00  1.00\n"
     ]
    }
   ],
   "source": [
    "df2 = pd.DataFrame(newUniversity, columns = ['Drop','Fr','So','Jr','Sr','Grad'], index = ['Drop','Fr','So','Jr','Sr','Grad'])\n",
    "print(df2)"
   ]
  },
  {
   "cell_type": "code",
   "execution_count": 102,
   "metadata": {},
   "outputs": [],
   "source": [
    "def iteracionesUniversidad(numero):\n",
    "\n",
    "    #validamos que sea un numero mayor a uno, recuerden que solo acepta enteros dado que se ocupara la variable\n",
    "    #numero pare realizar iteraciones ---->\n",
    "\n",
    "    #creamos los valores iniciales\n",
    "    \n",
    "    zero = np.array([1,0,0,0,0,0]).reshape(6, 1)\n",
    "    one = np.array([0,1,0,0,0,0]).reshape(6, 1)\n",
    "    two = np.array([0,0,1,0,0,0]).reshape(6, 1)\n",
    "    three = np.array([0,0,0,1,0,0]).reshape(6, 1)\n",
    "    four = np.array([0,0,0,0,1,0]).reshape(6, 1)\n",
    "    five = np.array([0,0,0,0,0,1]).reshape(6, 1)\n",
    "\n",
    "\n",
    "        #sugerencia: pueden mejorar este codigo añadiendo listas para crear las variables iniciales de forma dinamica\n",
    "\n",
    "        #iteramos el numero de veces que se quiera realizar iteraciones\n",
    "        \n",
    "    for x in range(numero+1):\n",
    "            \n",
    "        #realizamos producto punto de cada uno de los estados iniciales por la matriz de transciocion\n",
    "        zero1 = np.dot(newUniversity, zero).reshape(1,6) \n",
    "        one1 = np.dot(newUniversity,one).reshape(1,6)\n",
    "        two1 = np.dot(newUniversity,two).reshape(1,6)\n",
    "        three1 = np.dot(newUniversity,three).reshape(1,6)\n",
    "        four1 = np.dot(newUniversity,four).reshape(1,6)\n",
    "        five1 = np.dot(newUniversity,five).reshape(1,6)\n",
    "\n",
    "            \n",
    "        #crearemos la nueva matriz de transicion , apilando cada uno de los arreglos anteriores\n",
    "        nuevoarreglo = np.append(zero1,one1)\n",
    "        nuevoarreglo = np.append(nuevoarreglo,two1)\n",
    "        nuevoarreglo = np.append(nuevoarreglo,three1)\n",
    "        nuevoarreglo = np.append(nuevoarreglo,four1)\n",
    "        nuevoarreglo = np.append(nuevoarreglo,five1)\n",
    "\n",
    "            #numero de iteracion \n",
    "\n",
    "        print(\"Iteracion numero: \",x)\n",
    "        \n",
    "\n",
    "        df = pd.DataFrame(nuevoarreglo.reshape(6,6), columns = ['Drop','Fr','So','Jr','Sr','Grad'], index = ['Drop','Fr','So','Jr','Sr','Grad'])\n",
    "        df = df.applymap(\"{0:.4f}\".format)\n",
    "        print(df)\n",
    "            \n",
    "            #seleccionamos nuevamente los valores para que continuen las iteraciones\n",
    "        zero = (nuevoarreglo[:6])  \n",
    "        one = (nuevoarreglo[6:12])  \n",
    "        two = (nuevoarreglo[12:18])  \n",
    "        three = (nuevoarreglo[18:24]) \n",
    "        four = (nuevoarreglo[24:30]) \n",
    "        five = (nuevoarreglo[30:36])\n",
    "\n",
    "        #para terminar construimos nuevamente la matriz final\n",
    "    arreglo = np.append(zero,one)\n",
    "    arreglo = np.append(arreglo,two)\n",
    "    arreglo = np.append(arreglo,three)\n",
    "    arreglo = np.append(arreglo,four)\n",
    "    arreglo = np.append(arreglo,five)\n",
    "\n",
    "        #la mostramos en pantalla con su respectiva forma 5x5\n",
    "    return arreglo.reshape(6,6)\n"
   ]
  },
  {
   "cell_type": "code",
   "execution_count": 103,
   "metadata": {},
   "outputs": [
    {
     "name": "stdout",
     "output_type": "stream",
     "text": [
      "Iteracion numero:  0\n",
      "        Drop      Fr      So      Jr      Sr    Grad\n",
      "Drop  1.0000  0.0600  0.0600  0.0400  0.0400  0.0000\n",
      "Fr    0.0000  0.0300  0.0000  0.0000  0.0000  0.0000\n",
      "So    0.0000  0.9100  0.0300  0.0000  0.0000  0.0000\n",
      "Jr    0.0000  0.0000  0.9100  0.0300  0.0000  0.0000\n",
      "Sr    0.0000  0.0000  0.0000  0.9300  0.0300  0.0000\n",
      "Grad  0.0000  0.0000  0.0000  0.0000  0.9300  1.0000\n",
      "Iteracion numero:  1\n",
      "        Drop      Fr      So      Jr      Sr    Grad\n",
      "Drop  1.0000  0.1164  0.0982  0.0784  0.0412  0.0000\n",
      "Fr    0.0000  0.0009  0.0000  0.0000  0.0000  0.0000\n",
      "So    0.0000  0.0546  0.0009  0.0000  0.0000  0.0000\n",
      "Jr    0.0000  0.8281  0.0546  0.0009  0.0000  0.0000\n",
      "Sr    0.0000  0.0000  0.8463  0.0558  0.0009  0.0000\n",
      "Grad  0.0000  0.0000  0.0000  0.8649  0.9579  1.0000\n",
      "Iteracion numero:  2\n",
      "        Drop      Fr      So      Jr      Sr    Grad\n",
      "Drop  1.0000  0.1529  0.1343  0.0807  0.0412  0.0000\n",
      "Fr    0.0000  0.0000  0.0000  0.0000  0.0000  0.0000\n",
      "So    0.0000  0.0025  0.0000  0.0000  0.0000  0.0000\n",
      "Jr    0.0000  0.0745  0.0025  0.0000  0.0000  0.0000\n",
      "Sr    0.0000  0.7701  0.0762  0.0025  0.0000  0.0000\n",
      "Grad  0.0000  0.0000  0.7871  0.9168  0.9587  1.0000\n",
      "Iteracion numero:  3\n",
      "        Drop      Fr      So      Jr      Sr    Grad\n",
      "Drop  1.0000  0.1868  0.1374  0.0808  0.0412  0.0000\n",
      "Fr    0.0000  0.0000  0.0000  0.0000  0.0000  0.0000\n",
      "So    0.0000  0.0001  0.0000  0.0000  0.0000  0.0000\n",
      "Jr    0.0000  0.0045  0.0001  0.0000  0.0000  0.0000\n",
      "Sr    0.0000  0.0924  0.0046  0.0001  0.0000  0.0000\n",
      "Grad  0.0000  0.7162  0.8579  0.9191  0.9588  1.0000\n",
      "Iteracion numero:  4\n",
      "        Drop      Fr      So      Jr      Sr    Grad\n",
      "Drop  1.0000  0.1907  0.1376  0.0808  0.0412  0.0000\n",
      "Fr    0.0000  0.0000  0.0000  0.0000  0.0000  0.0000\n",
      "So    0.0000  0.0000  0.0000  0.0000  0.0000  0.0000\n",
      "Jr    0.0000  0.0002  0.0000  0.0000  0.0000  0.0000\n",
      "Sr    0.0000  0.0069  0.0002  0.0000  0.0000  0.0000\n",
      "Grad  0.0000  0.8022  0.8621  0.9192  0.9588  1.0000\n",
      "Iteracion numero:  5\n",
      "        Drop      Fr      So      Jr      Sr    Grad\n",
      "Drop  1.0000  0.1910  0.1376  0.0808  0.0412  0.0000\n",
      "Fr    0.0000  0.0000  0.0000  0.0000  0.0000  0.0000\n",
      "So    0.0000  0.0000  0.0000  0.0000  0.0000  0.0000\n",
      "Jr    0.0000  0.0000  0.0000  0.0000  0.0000  0.0000\n",
      "Sr    0.0000  0.0004  0.0000  0.0000  0.0000  0.0000\n",
      "Grad  0.0000  0.8086  0.8624  0.9192  0.9588  1.0000\n"
     ]
    }
   ],
   "source": [
    "x = iteracionesUniversidad(5)\n"
   ]
  }
 ],
 "metadata": {
  "kernelspec": {
   "display_name": "Python 3.9.7 ('base')",
   "language": "python",
   "name": "python3"
  },
  "language_info": {
   "codemirror_mode": {
    "name": "ipython",
    "version": 3
   },
   "file_extension": ".py",
   "mimetype": "text/x-python",
   "name": "python",
   "nbconvert_exporter": "python",
   "pygments_lexer": "ipython3",
   "version": "3.9.7"
  },
  "orig_nbformat": 4,
  "vscode": {
   "interpreter": {
    "hash": "12e7b2db913c7cced4d5bf71ce365c438f2053887e824f813caa9208ccef4b13"
   }
  }
 },
 "nbformat": 4,
 "nbformat_minor": 2
}
