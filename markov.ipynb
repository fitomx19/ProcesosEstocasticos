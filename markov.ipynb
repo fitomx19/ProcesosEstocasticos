{
 "cells": [
  {
   "cell_type": "markdown",
   "metadata": {},
   "source": [
    "### Cadenas de Markov\n",
    "#### Adolfo Huerta Ramírez"
   ]
  },
  {
   "cell_type": "code",
   "execution_count": 36,
   "metadata": {},
   "outputs": [],
   "source": [
    "def dotProduct():\n",
    "    import numpy as np\n",
    "    numero_columnas = input(\"introduce el numero de columnas A: \")\n",
    "    numero_filas = input(\"introduce el numero de filas A: \")\n",
    "\n",
    "    numero_columnas = int(numero_columnas)\n",
    "    numero_filas = int(numero_filas)\n",
    "\n",
    "    numeros = []\n",
    "\n",
    "    for x in range(numero_columnas):\n",
    "        for y in range(numero_filas):\n",
    "            numero = input(\"introduce el numero izq - der: \")\n",
    "            numeros.append(int(numero))\n",
    "\n",
    "\n",
    "\n",
    "    numero_columnasB = input(\"introduce el numero de columnas B: \")\n",
    "    numero_filasB = input(\"introduce el numero de filas B: \")\n",
    "\n",
    "    numero_columnasB = int(numero_columnasB)\n",
    "    numero_filasB = int(numero_filasB)\n",
    "\n",
    "    numerosB = []\n",
    "\n",
    "    for x in range(numero_columnasB):\n",
    "        for y in range(numero_filasB):\n",
    "            numeroB = input(\"introduce el numero izq-der: \")\n",
    "            numerosB.append(int(numeroB))\n",
    "\n",
    "    A=np.array(numeros).reshape(numero_filas,numero_columnas)\n",
    "    B=np.array(numerosB).reshape(numero_filasB,numero_columnasB)\n",
    "    C = np.dot(A,B)\n",
    "    print(A)\n",
    "    print(B)\n",
    "    return C"
   ]
  },
  {
   "cell_type": "code",
   "execution_count": 37,
   "metadata": {},
   "outputs": [
    {
     "name": "stdout",
     "output_type": "stream",
     "text": [
      "[[1 2]\n",
      " [3 4]]\n",
      "[[1]\n",
      " [2]]\n",
      "[[ 5]\n",
      " [11]]\n"
     ]
    }
   ],
   "source": [
    "productoPunto = dotProduct()\n",
    "print(productoPunto)"
   ]
  },
  {
   "cell_type": "code",
   "execution_count": null,
   "metadata": {},
   "outputs": [],
   "source": []
  }
 ],
 "metadata": {
  "kernelspec": {
   "display_name": "Python 3.9.7 ('base')",
   "language": "python",
   "name": "python3"
  },
  "language_info": {
   "codemirror_mode": {
    "name": "ipython",
    "version": 3
   },
   "file_extension": ".py",
   "mimetype": "text/x-python",
   "name": "python",
   "nbconvert_exporter": "python",
   "pygments_lexer": "ipython3",
   "version": "3.9.7"
  },
  "orig_nbformat": 4,
  "vscode": {
   "interpreter": {
    "hash": "12e7b2db913c7cced4d5bf71ce365c438f2053887e824f813caa9208ccef4b13"
   }
  }
 },
 "nbformat": 4,
 "nbformat_minor": 2
}
